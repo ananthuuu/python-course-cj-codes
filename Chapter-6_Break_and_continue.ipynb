{
 "cells": [
  {
   "cell_type": "markdown",
   "id": "64cbf854",
   "metadata": {},
   "source": [
    "# Loops and Iteration in Python\n",
    "\n",
    "In this notebook, we will explore loops and iteration in Python, including the usage of the `break` and `continue` statements."
   ]
  },
  {
   "cell_type": "markdown",
   "id": "a22cb729",
   "metadata": {},
   "source": [
    "## `break` Statement\n",
    "\n",
    "The `break` statement is used to exit the loop prematurely when a certain condition is met. It immediately terminates the loop and moves to the next code block outside the loop."
   ]
  },
  {
   "cell_type": "code",
   "execution_count": null,
   "id": "1129a52e",
   "metadata": {},
   "outputs": [],
   "source": [
    "# Example of using the break statement\n",
    "fruits = [\"apple\", \"banana\", \"cherry\"]\n",
    "for fruit in fruits:\n",
    "    if fruit == \"banana\":\n",
    "        print(\"Found banana, stopping the loop.\")\n",
    "        break\n",
    "    print(fruit)"
   ]
  },
  {
   "cell_type": "markdown",
   "id": "01a94b49",
   "metadata": {},
   "source": [
    "## `continue` Statement\n",
    "\n",
    "The `continue` statement is used to skip the current iteration of the loop and move to the next iteration. It's particularly useful when you want to skip certain items or conditions."
   ]
  },
  {
   "cell_type": "code",
   "execution_count": null,
   "id": "51afabf7",
   "metadata": {},
   "outputs": [],
   "source": [
    "# Example of using the continue statement\n",
    "numbers = [1, 2, 3, 4, 5]"
   ]
  },
  {
   "cell_type": "code",
   "execution_count": null,
   "id": "d8620e4f",
   "metadata": {},
   "outputs": [],
   "source": [
    "for num in numbers:\n",
    "    if num % 2 == 0:\n",
    "        print(f\"{num} is even, skipping it.\")\n",
    "        continue\n",
    "    print(f\"{num} is odd.\")"
   ]
  }
 ],
 "metadata": {
  "kernelspec": {
   "display_name": "Python 3 (ipykernel)",
   "language": "python",
   "name": "python3"
  },
  "language_info": {
   "codemirror_mode": {
    "name": "ipython",
    "version": 3
   },
   "file_extension": ".py",
   "mimetype": "text/x-python",
   "name": "python",
   "nbconvert_exporter": "python",
   "pygments_lexer": "ipython3",
   "version": "3.10.9"
  }
 },
 "nbformat": 4,
 "nbformat_minor": 5
}
