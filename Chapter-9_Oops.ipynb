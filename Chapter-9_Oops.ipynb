{
 "cells": [
  {
   "cell_type": "markdown",
   "id": "2719896b",
   "metadata": {},
   "source": [
    "# Introduction to Classes and Objects in Python\n",
    "\n",
    "In this notebook, we will explore object-oriented programming (OOP) concepts using a consistent example of vehicles."
   ]
  },
  {
   "cell_type": "markdown",
   "id": "73d00cf7",
   "metadata": {},
   "source": [
    "## Creating Classes and Instances\n",
    "\n",
    "A class is like a blueprint for creating objects with specific attributes and methods. An instance is an actual object created from a class."
   ]
  },
  {
   "cell_type": "code",
   "execution_count": null,
   "id": "d1c5c8de",
   "metadata": {},
   "outputs": [],
   "source": [
    "# Example: Creating a class for vehicles\n",
    "class Vehicle:\n",
    "    def __init__(self, make, model):  # Constructor\n",
    "        self.make = make  # Public attribute: Make of the vehicle\n",
    "        self.model = model  # Public attribute: Model of the vehicle\n",
    "    \n",
    "    def display_info(self):\n",
    "        print(f\"This is a {self.make} {self.model}.\")  # Method: Display vehicle info"
   ]
  },
  {
   "cell_type": "code",
   "execution_count": null,
   "id": "7f6e1adc",
   "metadata": {},
   "outputs": [],
   "source": [
    "# Creating instances of the Vehicle class\n",
    "car = Vehicle(\"Toyota\", \"Camry\")\n",
    "bike = Vehicle(\"Honda\", \"CBR\")"
   ]
  },
  {
   "cell_type": "code",
   "execution_count": null,
   "id": "b2f16673",
   "metadata": {},
   "outputs": [],
   "source": [
    "#accesing a instance attribute \n",
    "print(car.make)"
   ]
  },
  {
   "cell_type": "code",
   "execution_count": null,
   "id": "2ccf4918",
   "metadata": {},
   "outputs": [],
   "source": [
    "print(car.model)"
   ]
  },
  {
   "cell_type": "code",
   "execution_count": null,
   "id": "3cdbdd42",
   "metadata": {},
   "outputs": [],
   "source": [
    "# accessing an instance method\n",
    "car.display_info()"
   ]
  },
  {
   "cell_type": "code",
   "execution_count": null,
   "id": "393de0c2",
   "metadata": {},
   "outputs": [],
   "source": [
    "bike.display_info()"
   ]
  },
  {
   "cell_type": "markdown",
   "id": "a07e2239",
   "metadata": {},
   "source": [
    "## Constructors and Destructors\n",
    "\n",
    "Constructors are special methods used for initializing objects. Destructors are used for cleaning up resources when an object is no longer needed."
   ]
  },
  {
   "cell_type": "code",
   "execution_count": null,
   "id": "c73a2526",
   "metadata": {},
   "outputs": [],
   "source": [
    "# Example: Constructors and Destructors\n",
    "class Vehicle:\n",
    "    def __init__(self, make, model): #constructor\n",
    "        self.make = make  # Public attribute\n",
    "        self.model = model  # Public attribute\n",
    "        print(f\"A new {self.make} {self.model} is created.\") \n",
    "    \n",
    "    def display_info(self):\n",
    "        print(f\"This is a {self.make} {self.model}.\")\n",
    "    \n",
    "    def __del__(self):\n",
    "        print(f\"The {self.make} {self.model} is no longer needed and is being destroyed.\")  # Destructor"
   ]
  },
  {
   "cell_type": "code",
   "execution_count": null,
   "id": "0afd9b8f",
   "metadata": {},
   "outputs": [],
   "source": [
    "#whenever an instance of object is intialized  the constructor  (def __init__) function of \n",
    "#that object is called with passed parameters and object is created accordingly\n",
    "car_1 = Vehicle(\"Toyota\", \"Camry\")"
   ]
  },
  {
   "cell_type": "code",
   "execution_count": null,
   "id": "e9f6b289",
   "metadata": {},
   "outputs": [],
   "source": [
    "# destructor methos is called with \"del\" and the instance will be deleted and command inside \"__del__\" \n",
    "# will be execured with this method\n",
    "del car  # Deleting the object"
   ]
  },
  {
   "cell_type": "markdown",
   "id": "d2a14b2b",
   "metadata": {},
   "source": [
    "## Inheritance\n",
    "\n",
    "Inheritance allows a class (child) to inherit attributes and methods from another class (parent). This promotes code reuse and creates a hierarchy of classes."
   ]
  },
  {
   "cell_type": "code",
   "execution_count": null,
   "id": "26bfad3f",
   "metadata": {},
   "outputs": [],
   "source": [
    "# Example: Inheritance\n",
    "class Car(Vehicle):\n",
    "    def __init__(self, make, model, year):\n",
    "        super().__init__(make, model)  # Calling parent class constructor\n",
    "        self.year = year  # Additional attribute\n",
    "    \n",
    "    def display_info(self):\n",
    "        print(f\"This is a {self.year} {self.make} {self.model}.\")  # Overriding display_info()\n",
    "\n",
    "car1 = Car(\"Toyota\", \"Camry\", 2023)\n",
    "car1.display_info()  # Output: This is a 2023 Toyota Camry."
   ]
  },
  {
   "cell_type": "code",
   "execution_count": null,
   "id": "6c949f16",
   "metadata": {},
   "outputs": [],
   "source": [
    "car1 = Car(\"Toyota\", \"Camry\", 2023)\n",
    "car1.display_info()  # Output: This is a 2023 Toyota Camry."
   ]
  },
  {
   "cell_type": "markdown",
   "id": "3a26eda4",
   "metadata": {},
   "source": [
    "## Polymorphism Through Method Overriding\n",
    "\n",
    "Polymorphism allows objects of different classes to be treated as objects of a common base class. Method overriding contributes to achieving polymorphism."
   ]
  },
  {
   "cell_type": "code",
   "execution_count": null,
   "id": "c9fcd12b",
   "metadata": {},
   "outputs": [],
   "source": [
    "# Example: Achieving polymorphism through method overriding\n",
    "class Bike(Vehicle):\n",
    "    def __init__(self, make, model, wheels):\n",
    "        super().__init__(make, model)  # Calling parent class constructor\n",
    "        self.wheels = wheels  # Additional attribute\n",
    "    \n",
    "    def display_info(self):\n",
    "        print(f\"This is a {self.make} {self.model} with {self.wheels} wheels.\")\n",
    "\n",
    "# Creating instances of the Bike class (child class)\n",
    "bike1 = Bike(\"Honda\", \"CBR\", 2)\n",
    "bike1.display_info()  # Output: This is a Honda CBR with 2 wheels."
   ]
  }
 ],
 "metadata": {
  "kernelspec": {
   "display_name": "Python 3 (ipykernel)",
   "language": "python",
   "name": "python3"
  },
  "language_info": {
   "codemirror_mode": {
    "name": "ipython",
    "version": 3
   },
   "file_extension": ".py",
   "mimetype": "text/x-python",
   "name": "python",
   "nbconvert_exporter": "python",
   "pygments_lexer": "ipython3",
   "version": "3.10.9"
  }
 },
 "nbformat": 4,
 "nbformat_minor": 5
}
