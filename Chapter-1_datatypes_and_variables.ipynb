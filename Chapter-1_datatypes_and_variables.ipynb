{
 "cells": [
  {
   "cell_type": "markdown",
   "id": "1e143869",
   "metadata": {},
   "source": [
    "# Variables and Data Types in Python\n",
    "\n",
    "In this notebook, we will cover variables and different data types in Python."
   ]
  },
  {
   "cell_type": "markdown",
   "id": "d4c8ad5d",
   "metadata": {},
   "source": [
    "## Variables\n",
    "\n",
    "A variable is a named location in memory that holds a value. It allows you to store and manipulate data in your programs."
   ]
  },
  {
   "cell_type": "code",
   "execution_count": null,
   "id": "ad89416c",
   "metadata": {},
   "outputs": [],
   "source": [
    "# Assigning values to variables\n",
    "name = \"John\"\n",
    "age = 25\n",
    "height = 6.2\n",
    "is_student = True"
   ]
  },
  {
   "cell_type": "code",
   "execution_count": null,
   "id": "2074d9de",
   "metadata": {},
   "outputs": [],
   "source": [
    "# Accessing variables\n",
    "print(\"Name:\", name)\n",
    "print(\"Age:\", age)\n",
    "print(\"Height:\", height)\n",
    "print(\"Is Student:\", is_student)"
   ]
  },
  {
   "cell_type": "markdown",
   "id": "99b3871e",
   "metadata": {},
   "source": [
    "## Common Data Types\n",
    "\n",
    "Python supports various data types, which include integers, floats, strings, and booleans."
   ]
  },
  {
   "cell_type": "code",
   "execution_count": null,
   "id": "76d124f2",
   "metadata": {},
   "outputs": [],
   "source": [
    "# Integers\n",
    "num1 = 10\n",
    "num2 = -5\n"
   ]
  },
  {
   "cell_type": "code",
   "execution_count": null,
   "id": "89943b25",
   "metadata": {},
   "outputs": [],
   "source": [
    "# Floats\n",
    "pi = 3.14159\n",
    "temperature = 98.6\n"
   ]
  },
  {
   "cell_type": "code",
   "execution_count": null,
   "id": "91535e0a",
   "metadata": {},
   "outputs": [],
   "source": [
    "# Strings\n",
    "greeting = \"Hello, World!\"\n",
    "name = 'Alice'\n"
   ]
  },
  {
   "cell_type": "code",
   "execution_count": null,
   "id": "8c2ca7d1",
   "metadata": {},
   "outputs": [],
   "source": [
    "# Booleans\n",
    "is_raining = True\n",
    "is_sunny = False\n"
   ]
  },
  {
   "cell_type": "code",
   "execution_count": null,
   "id": "37ab1334",
   "metadata": {},
   "outputs": [],
   "source": [
    "# Type Conversion\n",
    "num_str = \"42\"\n",
    "num = int(num_str)\n",
    "print(num + 10)  # Output: 52"
   ]
  }
 ],
 "metadata": {
  "kernelspec": {
   "display_name": "Python 3 (ipykernel)",
   "language": "python",
   "name": "python3"
  },
  "language_info": {
   "codemirror_mode": {
    "name": "ipython",
    "version": 3
   },
   "file_extension": ".py",
   "mimetype": "text/x-python",
   "name": "python",
   "nbconvert_exporter": "python",
   "pygments_lexer": "ipython3",
   "version": "3.10.9"
  }
 },
 "nbformat": 4,
 "nbformat_minor": 5
}
