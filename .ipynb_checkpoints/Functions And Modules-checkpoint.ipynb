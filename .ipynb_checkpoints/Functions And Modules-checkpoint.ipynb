{
 "cells": [
  {
   "cell_type": "markdown",
   "id": "604e701c",
   "metadata": {},
   "source": [
    "# Python Functions and Modules\n",
    "\n",
    "In this notebook, we will explore how to define and use functions in Python, as well as how to work with modules to organize code."
   ]
  },
  {
   "cell_type": "markdown",
   "id": "13a5aa34",
   "metadata": {},
   "source": [
    "## Functions in Python\n",
    "\n",
    "A function is a block of organized, reusable code that performs a specific task. It takes inputs (arguments) and returns an output. Functions allow you to break down complex tasks into smaller, manageable pieces."
   ]
  },
  {
   "cell_type": "markdown",
   "id": "9fa1656c",
   "metadata": {},
   "source": [
    "### Defining a Function\n",
    "\n",
    "Functions in Python are defined using the `def` keyword followed by the function name and parentheses containing parameters. The code block within the function is indented."
   ]
  },
  {
   "cell_type": "code",
   "execution_count": 2,
   "id": "8650bc46",
   "metadata": {},
   "outputs": [],
   "source": [
    "# Example of a simple function\n",
    "def greet(name):\n",
    "    \"\"\"\n",
    "    This function greets the person passed in as a parameter.\n",
    "    \"\"\"\n",
    "    print(f\"Hello, {name}!\")\n",
    "\n"
   ]
  },
  {
   "cell_type": "code",
   "execution_count": null,
   "id": "858b5a7c",
   "metadata": {},
   "outputs": [],
   "source": [
    "# Calling the greet function\n",
    "greet(\"Alice\") "
   ]
  },
  {
   "cell_type": "markdown",
   "id": "b067c3d7",
   "metadata": {},
   "source": [
    "### Function with Return Value\n",
    "\n",
    "Functions can also return values using the `return` statement. The returned value can then be used in other parts of your code."
   ]
  },
  {
   "cell_type": "code",
   "execution_count": null,
   "id": "18ddf8ba",
   "metadata": {},
   "outputs": [],
   "source": [
    "# Example of a function with return value\n",
    "def add(a, b):\n",
    "    \"\"\"\n",
    "    This function adds two numbers and returns the result.\n",
    "    \"\"\"\n",
    "    return a + b\n"
   ]
  },
  {
   "cell_type": "code",
   "execution_count": null,
   "id": "2e88d0c7",
   "metadata": {},
   "outputs": [],
   "source": [
    "# Calling the add function and using the return value\n",
    "result = add(3, 5)\n",
    "print(result)  "
   ]
  },
  {
   "cell_type": "markdown",
   "id": "a6193274",
   "metadata": {},
   "source": [
    "### Positional Parameters\n",
    "\n",
    "Positional parameters are the most common type of parameters. They are assigned values based on the order of arguments in the function call."
   ]
  },
  {
   "cell_type": "code",
   "execution_count": null,
   "id": "d01c2038",
   "metadata": {},
   "outputs": [],
   "source": [
    "# Example of positional parameters\n",
    "def describe_pet(name, animal_type):\n",
    "    \"\"\"\n",
    "    This function describes a pet by its name and type.\n",
    "    \"\"\"\n",
    "    print(f\"I have a {animal_type} named {name}.\")\n",
    "\n"
   ]
  },
  {
   "cell_type": "code",
   "execution_count": null,
   "id": "7bde34b7",
   "metadata": {},
   "outputs": [],
   "source": [
    "# Calling the function with positional arguments\n",
    "describe_pet(\"Max\", \"dog\") "
   ]
  },
  {
   "cell_type": "markdown",
   "id": "f3411944",
   "metadata": {},
   "source": [
    "### Keyword Parameters\n",
    "\n",
    "Keyword parameters are identified by their parameter names, allowing you to pass arguments in any order."
   ]
  },
  {
   "cell_type": "code",
   "execution_count": null,
   "id": "91858830",
   "metadata": {},
   "outputs": [],
   "source": [
    "# Example of keyword parameters\n",
    "def make_pizza(size, toppings):\n",
    "    \"\"\"\n",
    "    This function creates a pizza with the given size and toppings.\n",
    "    \"\"\"\n",
    "    print(f\"Making a {size}-inch pizza with {', '.join(toppings)}.\")\n"
   ]
  },
  {
   "cell_type": "code",
   "execution_count": null,
   "id": "0b98d0b4",
   "metadata": {},
   "outputs": [],
   "source": [
    "\n",
    "# Calling the function with keyword arguments\n",
    "make_pizza(size=12, toppings=[\"pepperoni\", \"mushrooms\", \"olives\"]) "
   ]
  },
  {
   "cell_type": "markdown",
   "id": "b0bc315b",
   "metadata": {},
   "source": [
    "### Default Parameters\n",
    "\n",
    "Default parameters have preset values that are used if the corresponding argument is not provided in the function call."
   ]
  },
  {
   "cell_type": "code",
   "execution_count": null,
   "id": "e027b12c",
   "metadata": {},
   "outputs": [],
   "source": [
    "# Example of default parameters\n",
    "def greet_person(name, greeting=\"Hello\"):\n",
    "    \"\"\"\n",
    "    This function greets a person with a customizable greeting.\n",
    "    \"\"\"\n",
    "    print(f\"{greeting}, {name}!\")\n"
   ]
  },
  {
   "cell_type": "code",
   "execution_count": null,
   "id": "08701168",
   "metadata": {},
   "outputs": [],
   "source": [
    "# Calling the function without providing greeting\n",
    "greet_person(\"Alice\") "
   ]
  },
  {
   "cell_type": "code",
   "execution_count": null,
   "id": "f60e2270",
   "metadata": {},
   "outputs": [],
   "source": [
    "# Calling the function with custom greeting\n",
    "greet_person(\"Bob\", greeting=\"Hi\") "
   ]
  },
  {
   "cell_type": "markdown",
   "id": "4709039c",
   "metadata": {},
   "source": [
    "### Variable-length Positional Parameters\n",
    "\n",
    "Variable-length positional parameters allow a function to accept a variable number of positional arguments using `*args`."
   ]
  },
  {
   "cell_type": "code",
   "execution_count": null,
   "id": "227fcdd5",
   "metadata": {},
   "outputs": [],
   "source": [
    "# Example of variable-length positional parameters\n",
    "def create_playlist(*songs):\n",
    "    \"\"\"\n",
    "    This function creates a playlist with the given songs.\n",
    "    \"\"\"\n",
    "    print(\"Playlist:\")\n",
    "    for idx, song in enumerate(songs, start=1):\n",
    "        print(f\"{idx}. {song}\")\n"
   ]
  },
  {
   "cell_type": "code",
   "execution_count": null,
   "id": "5d3d3872",
   "metadata": {},
   "outputs": [],
   "source": [
    "# Calling the function with different number of songs\n",
    "create_playlist(\"Song 1\", \"Song 2\", \"Song 3\")\n",
    "create_playlist(\"Song A\", \"Song B\")"
   ]
  },
  {
   "cell_type": "markdown",
   "id": "daea2eae",
   "metadata": {},
   "source": [
    "### Variable-length Keyword Parameters\n",
    "\n",
    "Variable-length keyword parameters allow a function to accept a variable number of keyword arguments using `**kwargs`."
   ]
  },
  {
   "cell_type": "code",
   "execution_count": null,
   "id": "c69b1342",
   "metadata": {},
   "outputs": [],
   "source": [
    "# Example of variable-length keyword parameters\n",
    "def print_info(**details):\n",
    "    \"\"\"\n",
    "    This function prints out the provided information.\n",
    "    \"\"\"\n",
    "    for key, value in details.items():\n",
    "        print(f\"{key}: {value}\")\n"
   ]
  },
  {
   "cell_type": "code",
   "execution_count": null,
   "id": "97b27301",
   "metadata": {},
   "outputs": [],
   "source": [
    "# Calling the function with different information\n",
    "print_info(name=\"Alice\", age=25, city=\"Wonderland\")\n",
    "print_info(item=\"Book\", quantity=3)"
   ]
  },
  {
   "cell_type": "markdown",
   "id": "ea08694b",
   "metadata": {},
   "source": [
    "### Mixing Different Types of Parameters\n",
    "\n",
    "When mixing different types of parameters, follow the order: positional, default, `*args`, `**kwargs`."
   ]
  },
  {
   "cell_type": "code",
   "execution_count": null,
   "id": "f72eb051",
   "metadata": {},
   "outputs": [],
   "source": [
    "# Example of mixing different types of parameters\n",
    "def mix_parameters(a, b=10, *args, **kwargs):\n",
    "    \"\"\"\n",
    "    This function demonstrates mixing parameter types.\n",
    "    \"\"\"\n",
    "    print(f'a: {a}')\n",
    "    print(f'b: {b}')\n",
    "    print(f'args: {args}')\n",
    "    print(f'kwargs: {kwargs}')\n"
   ]
  },
  {
   "cell_type": "code",
   "execution_count": null,
   "id": "6e2a8f25",
   "metadata": {},
   "outputs": [],
   "source": [
    "# Calling the function with different arguments\n",
    "mix_parameters(5)\n",
    "mix_parameters(2, 20, \"arg1\", \"arg2\", key1=\"value1\", key2=\"value2\")"
   ]
  },
  {
   "cell_type": "markdown",
   "id": "f0eeebf6",
   "metadata": {},
   "source": [
    "## Modules in Python\n",
    "\n",
    "Modules are files containing Python code. They allow you to organize your code into separate files and reuse code across different projects. Python has many built-in modules, as well as third-party modules that you can install."
   ]
  },
  {
   "cell_type": "markdown",
   "id": "ab54aa6b",
   "metadata": {},
   "source": [
    "### Importing Modules\n",
    "\n",
    "To use functions and variables from a module, you need to import that module using the `import` keyword."
   ]
  },
  {
   "cell_type": "code",
   "execution_count": null,
   "id": "cd4677f2",
   "metadata": {},
   "outputs": [],
   "source": [
    "# Example of importing a module\n",
    "import math\n",
    "\n",
    "# Using a function from the math module\n",
    "print(math.sqrt(16))  # Output: 4.0"
   ]
  }
 ],
 "metadata": {
  "kernelspec": {
   "display_name": "Python 3 (ipykernel)",
   "language": "python",
   "name": "python3"
  },
  "language_info": {
   "codemirror_mode": {
    "name": "ipython",
    "version": 3
   },
   "file_extension": ".py",
   "mimetype": "text/x-python",
   "name": "python",
   "nbconvert_exporter": "python",
   "pygments_lexer": "ipython3",
   "version": "3.10.9"
  }
 },
 "nbformat": 4,
 "nbformat_minor": 5
}
