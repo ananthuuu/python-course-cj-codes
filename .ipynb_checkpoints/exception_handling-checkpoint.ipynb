{
 "cells": [
  {
   "cell_type": "markdown",
   "id": "41f7cdcd",
   "metadata": {},
   "source": [
    "# Exception Handling in Python\n",
    "\n",
    "In this notebook, we will explore exception handling in Python. Exception handling allows you to gracefully handle errors and exceptions that may occur during program execution."
   ]
  },
  {
   "cell_type": "markdown",
   "id": "05d6da61",
   "metadata": {},
   "source": [
    "## Examples: Handling Errors with Exception Handling\n",
    "\n",
    "Let's start by introducing some code examples that might result in errors during natural execution. We will then see how these errors can be solved using exception handling."
   ]
  },
  {
   "cell_type": "code",
   "execution_count": null,
   "id": "1be5e1fc",
   "metadata": {},
   "outputs": [],
   "source": [
    "# Example: Division by zero (Error)\n",
    "num = 0\n",
    "result = 10 / num\n",
    "print(result)"
   ]
  },
  {
   "cell_type": "markdown",
   "id": "43da4ce8",
   "metadata": {},
   "source": [
    "In the above code, division by zero will result in a `ZeroDivisionError`."
   ]
  },
  {
   "cell_type": "code",
   "execution_count": null,
   "id": "d348ab9b",
   "metadata": {},
   "outputs": [],
   "source": [
    "# Example: Handling division by zero using exception handling\n",
    "try:\n",
    "    num = 0\n",
    "    result = 10 / num\n",
    "except:\n",
    "    print(\"Error: Cannot divide by zero. Please provide a non-zero value.\")"
   ]
  },
  {
   "cell_type": "markdown",
   "id": "86365e38",
   "metadata": {},
   "source": [
    "In the above code, the `try` block attempts the division, and if a `ZeroDivisionError` occurs, the `except` block handles it gracefully."
   ]
  },
  {
   "cell_type": "code",
   "execution_count": null,
   "id": "c4d23e28",
   "metadata": {},
   "outputs": [],
   "source": [
    "# Example: Accessing an index that doesn't exist (Error)\n",
    "my_list = [1, 2, 3]\n",
    "value = my_list[5]\n",
    "print(value)"
   ]
  },
  {
   "cell_type": "markdown",
   "id": "eb8eb888",
   "metadata": {},
   "source": [
    "In the above code, trying to access an index that doesn't exist will result in an `IndexError`."
   ]
  },
  {
   "cell_type": "code",
   "execution_count": null,
   "id": "bf87f47b",
   "metadata": {},
   "outputs": [],
   "source": [
    "# Example: Handling index error using exception handling\n",
    "try:\n",
    "    my_list = [1, 2, 3]\n",
    "    value = my_list[5]\n",
    "except :\n",
    "    print(\"Error: Index out of range. Please provide a valid index.\")"
   ]
  },
  {
   "cell_type": "markdown",
   "id": "b272b3ff",
   "metadata": {},
   "source": [
    "In the above code, the `try` block attempts to access an index, and if an `IndexError` occurs, the `except` block handles it."
   ]
  }
 ],
 "metadata": {
  "kernelspec": {
   "display_name": "Python 3 (ipykernel)",
   "language": "python",
   "name": "python3"
  },
  "language_info": {
   "codemirror_mode": {
    "name": "ipython",
    "version": 3
   },
   "file_extension": ".py",
   "mimetype": "text/x-python",
   "name": "python",
   "nbconvert_exporter": "python",
   "pygments_lexer": "ipython3",
   "version": "3.10.9"
  }
 },
 "nbformat": 4,
 "nbformat_minor": 5
}
