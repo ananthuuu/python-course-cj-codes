{
 "cells": [
  {
   "cell_type": "markdown",
   "id": "7d776c05",
   "metadata": {},
   "source": [
    "# Python Operators\n",
    "\n",
    "In this notebook, we will learn about the different types of operators in Python. Operators are special symbols in Python that carry out arithmetic or logical computation. The value that the operator operates on is called the operand."
   ]
  },
  {
   "cell_type": "markdown",
   "id": "53a5a12d",
   "metadata": {},
   "source": [
    "## Arithmetic Operators\n",
    "\n",
    "Arithmetic operators are used to perform mathematical operations like addition, subtraction, multiplication, etc.\n",
    "\n",
    "| Operator | Name           | Description                                            |\n",
    "|----------|----------------|--------------------------------------------------------|\n",
    "| +        | Addition       | Adds values on either side of the operator.            |\n",
    "| -        | Subtraction    | Subtracts right hand operand from left hand operand.   |\n",
    "| *        | Multiplication | Multiplies values on either side of the operator.      |\n",
    "| /        | Division       | Divides left hand operand by right hand operand.       |\n",
    "| %        | Modulus        | Divides left hand operand by right hand operand and returns remainder. |\n",
    "| **       | Exponent       | Performs exponential (power) calculation on operators. |\n",
    "| //       | Floor Division | The division of operands where the result is the quotient in which the digits after the decimal point are removed. |\n"
   ]
  },
  {
   "cell_type": "markdown",
   "id": "6b33ccb2",
   "metadata": {},
   "source": [
    "## Relational Operators\n",
    "\n",
    "Relational operators are used to compare values. They return a boolean value `True` or `False` depending on whether the condition is met.\n",
    "\n",
    "| Operator | Name                  | Description                                            |\n",
    "|----------|-----------------------|--------------------------------------------------------|\n",
    "| ==       | Equal to              | If the values of two operands are equal, then the condition becomes true. |\n",
    "| !=       | Not equal to          | If values of two operands are not equal, then condition becomes true. |\n",
    "| >        | Greater than          | If the value of left operand is greater than the value of right operand, then condition becomes true. |\n",
    "| <        | Less than             | If the value of left operand is less than the value of right operand, then condition becomes true. |\n",
    "| >=       | Greater than or equal to | If the value of left operand is greater than or equal to the value of right operand, then condition becomes true. |\n",
    "| <=       | Less than or equal to | If the value of left operand is less than or equal to the value of right operand, then condition becomes true. |\n"
   ]
  },
  {
   "cell_type": "code",
   "execution_count": 2,
   "id": "925eb1c4",
   "metadata": {},
   "outputs": [],
   "source": [
    "# Examples of Arithmetic Operators\n",
    "\n",
    "# Addition\n",
    "a = 5\n",
    "b = 3"
   ]
  },
  {
   "cell_type": "code",
   "execution_count": 3,
   "id": "050d811f",
   "metadata": {},
   "outputs": [
    {
     "data": {
      "text/plain": [
       "8"
      ]
     },
     "execution_count": 3,
     "metadata": {},
     "output_type": "execute_result"
    }
   ],
   "source": [
    "a + b"
   ]
  },
  {
   "cell_type": "code",
   "execution_count": 4,
   "id": "e8c47cb9",
   "metadata": {},
   "outputs": [
    {
     "data": {
      "text/plain": [
       "2"
      ]
     },
     "execution_count": 4,
     "metadata": {},
     "output_type": "execute_result"
    }
   ],
   "source": [
    "# Subtraction\n",
    "a - b"
   ]
  },
  {
   "cell_type": "code",
   "execution_count": 5,
   "id": "79af9e95",
   "metadata": {},
   "outputs": [
    {
     "data": {
      "text/plain": [
       "2"
      ]
     },
     "execution_count": 5,
     "metadata": {},
     "output_type": "execute_result"
    }
   ],
   "source": [
    "a - b"
   ]
  },
  {
   "cell_type": "code",
   "execution_count": 5,
   "id": "d93ce2c2",
   "metadata": {},
   "outputs": [
    {
     "data": {
      "text/plain": [
       "15"
      ]
     },
     "execution_count": 5,
     "metadata": {},
     "output_type": "execute_result"
    }
   ],
   "source": [
    "# Multiplication\n",
    "a * b"
   ]
  },
  {
   "cell_type": "code",
   "execution_count": 6,
   "id": "af32b434",
   "metadata": {},
   "outputs": [
    {
     "data": {
      "text/plain": [
       "15"
      ]
     },
     "execution_count": 6,
     "metadata": {},
     "output_type": "execute_result"
    }
   ],
   "source": [
    "a * b"
   ]
  },
  {
   "cell_type": "code",
   "execution_count": 7,
   "id": "48036a4d",
   "metadata": {},
   "outputs": [
    {
     "data": {
      "text/plain": [
       "1.6666666666666667"
      ]
     },
     "execution_count": 7,
     "metadata": {},
     "output_type": "execute_result"
    }
   ],
   "source": [
    "# Division\n",
    "a / b"
   ]
  },
  {
   "cell_type": "code",
   "execution_count": 8,
   "id": "4a59a950",
   "metadata": {},
   "outputs": [
    {
     "data": {
      "text/plain": [
       "1.6666666666666667"
      ]
     },
     "execution_count": 8,
     "metadata": {},
     "output_type": "execute_result"
    }
   ],
   "source": [
    "a / b"
   ]
  },
  {
   "cell_type": "code",
   "execution_count": null,
   "id": "d9f34015",
   "metadata": {},
   "outputs": [],
   "source": [
    "# Examples of Relational Operators\n",
    "\n",
    "x = 10\n",
    "y = 5"
   ]
  },
  {
   "cell_type": "code",
   "execution_count": null,
   "id": "aeb106ab",
   "metadata": {},
   "outputs": [],
   "source": [
    "x == y"
   ]
  },
  {
   "cell_type": "code",
   "execution_count": null,
   "id": "d16fd103",
   "metadata": {},
   "outputs": [],
   "source": [
    "# Not equal to\n",
    "x != y"
   ]
  },
  {
   "cell_type": "code",
   "execution_count": null,
   "id": "678b913f",
   "metadata": {},
   "outputs": [],
   "source": [
    "x != y"
   ]
  },
  {
   "cell_type": "code",
   "execution_count": null,
   "id": "cca48f79",
   "metadata": {},
   "outputs": [],
   "source": [
    "# Greater than\n",
    "x > y"
   ]
  },
  {
   "cell_type": "code",
   "execution_count": null,
   "id": "5c3ec491",
   "metadata": {},
   "outputs": [],
   "source": [
    "x > y"
   ]
  },
  {
   "cell_type": "code",
   "execution_count": null,
   "id": "40f9c381",
   "metadata": {},
   "outputs": [],
   "source": [
    "# Less than\n",
    "x < y"
   ]
  },
  {
   "cell_type": "code",
   "execution_count": null,
   "id": "0c72dd2e",
   "metadata": {},
   "outputs": [],
   "source": [
    "x < y"
   ]
  },
  {
   "cell_type": "code",
   "execution_count": null,
   "id": "c7774ed3",
   "metadata": {},
   "outputs": [],
   "source": [
    "# Greater than or equal to\n",
    "x >= y"
   ]
  },
  {
   "cell_type": "code",
   "execution_count": null,
   "id": "fb0dfc9f",
   "metadata": {},
   "outputs": [],
   "source": [
    "x >= y"
   ]
  },
  {
   "cell_type": "code",
   "execution_count": null,
   "id": "63a08a33",
   "metadata": {},
   "outputs": [],
   "source": [
    "# Less than or equal to\n",
    "x <= y"
   ]
  },
  {
   "cell_type": "code",
   "execution_count": null,
   "id": "87ea0180",
   "metadata": {},
   "outputs": [],
   "source": [
    "x <= y"
   ]
  }
 ],
 "metadata": {
  "kernelspec": {
   "display_name": "Python 3 (ipykernel)",
   "language": "python",
   "name": "python3"
  },
  "language_info": {
   "codemirror_mode": {
    "name": "ipython",
    "version": 3
   },
   "file_extension": ".py",
   "mimetype": "text/x-python",
   "name": "python",
   "nbconvert_exporter": "python",
   "pygments_lexer": "ipython3",
   "version": "3.10.9"
  }
 },
 "nbformat": 4,
 "nbformat_minor": 5
}
