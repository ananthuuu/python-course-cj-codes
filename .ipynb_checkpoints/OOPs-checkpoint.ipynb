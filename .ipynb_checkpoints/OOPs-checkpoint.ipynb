{
 "cells": [
  {
   "cell_type": "markdown",
   "id": "e3cc6e30",
   "metadata": {},
   "source": [
    "# Introduction to Classes and Objects in Python\n",
    "\n",
    "In this notebook, we will explore object-oriented programming (OOP) concepts using a consistent example of vehicles."
   ]
  },
  {
   "cell_type": "markdown",
   "id": "13a95137",
   "metadata": {},
   "source": [
    "## Creating Classes and Instances\n",
    "\n",
    "A class is like a blueprint for creating objects with specific attributes and methods. An instance is an actual object created from a class."
   ]
  },
  {
   "cell_type": "code",
   "execution_count": null,
   "id": "ac114fa6",
   "metadata": {},
   "outputs": [],
   "source": [
    "# Example: Creating a class for vehicles\n",
    "class Vehicle:\n",
    "    def __init__(self, make, model):\n",
    "        self.make = make\n",
    "        self.model = model\n",
    "    \n",
    "    def display_info(self):\n",
    "        print(f\"{self.make} {self.model}\")\n",
    "\n",
    "# Creating instances of the Vehicle class\n",
    "car = Vehicle(\"Toyota\", \"Camry\")\n",
    "bike = Vehicle(\"Honda\", \"CBR\")"
   ]
  },
  {
   "cell_type": "markdown",
   "id": "cb122676",
   "metadata": {},
   "source": [
    "## Defining Attributes and Methods\n",
    "\n",
    "Attributes are variables that store values, and methods are functions defined within a class that perform actions."
   ]
  },
  {
   "cell_type": "code",
   "execution_count": null,
   "id": "d037b4ea",
   "metadata": {},
   "outputs": [],
   "source": [
    "# Example: Defining attributes and methods\n",
    "class Vehicle:\n",
    "    def __init__(self, make, model):\n",
    "        self.make = make\n",
    "        self.model = model\n",
    "    \n",
    "    def display_info(self):\n",
    "        print(f\"{self.make} {self.model}\")\n",
    "\n",
    "    def start_engine(self):\n",
    "        print(f\"{self.make} {self.model}'s engine started\")\n",
    "\n",
    "# Creating instances of the Vehicle class\n",
    "car = Vehicle(\"Toyota\", \"Camry\")\n",
    "bike = Vehicle(\"Honda\", \"CBR\")\n",
    "car.display_info()   # Output: Toyota Camry\n",
    "bike.start_engine()  # Output: Honda CBR's engine started"
   ]
  },
  {
   "cell_type": "markdown",
   "id": "2796a77e",
   "metadata": {},
   "source": [
    "## Inheritance\n",
    "\n",
    "Inheritance allows a class (child) to inherit attributes and methods from another class (parent). This promotes code reuse and creates a hierarchy of classes."
   ]
  },
  {
   "cell_type": "code",
   "execution_count": null,
   "id": "60049b81",
   "metadata": {},
   "outputs": [],
   "source": [
    "# Example: Creating parent and child classes\n",
    "class Car(Vehicle):\n",
    "    def __init__(self, make, model, year):\n",
    "        super().__init__(make, model)\n",
    "        self.year = year\n",
    "    \n",
    "    def display_info(self):\n",
    "        print(f\"{self.year} {self.make} {self.model}\")\n",
    "\n",
    "# Creating instances of the Car class (child class)\n",
    "car1 = Car(\"Toyota\", \"Camry\", 2023)\n",
    "car1.display_info()  # Output: 2023 Toyota Camry"
   ]
  },
  {
   "cell_type": "markdown",
   "id": "6133e67e",
   "metadata": {},
   "source": [
    "## Polymorphism Through Method Overriding\n",
    "\n",
    "Polymorphism allows objects of different classes to be treated as objects of a common base class. Method overriding contributes to achieving polymorphism."
   ]
  },
  {
   "cell_type": "code",
   "execution_count": null,
   "id": "0d73fc7e",
   "metadata": {},
   "outputs": [],
   "source": [
    "# Example: Achieving polymorphism through method overriding\n",
    "class Bike(Vehicle):\n",
    "    def __init__(self, make, model, wheels):\n",
    "        super().__init__(make, model)\n",
    "        self.wheels = wheels\n",
    "    \n",
    "    def display_info(self):\n",
    "        print(f\"{self.make} {self.model} with {self.wheels} wheels\")\n",
    "\n",
    "# Creating instances of the Bike class (child class)\n",
    "bike1 = Bike(\"Honda\", \"CBR\", 2)\n",
    "bike1.display_info()  # Output: Honda CBR with 2 wheels"
   ]
  }
 ],
 "metadata": {
  "kernelspec": {
   "display_name": "Python 3 (ipykernel)",
   "language": "python",
   "name": "python3"
  },
  "language_info": {
   "codemirror_mode": {
    "name": "ipython",
    "version": 3
   },
   "file_extension": ".py",
   "mimetype": "text/x-python",
   "name": "python",
   "nbconvert_exporter": "python",
   "pygments_lexer": "ipython3",
   "version": "3.10.9"
  }
 },
 "nbformat": 4,
 "nbformat_minor": 5
}
