{
 "cells": [
  {
   "cell_type": "markdown",
   "id": "76b739d4",
   "metadata": {},
   "source": [
    "# Lists, Tuples, and Dictionaries in Python\n",
    "\n",
    "In this notebook, we will explore three important data structures in Python: Lists, Tuples, and Dictionaries."
   ]
  },
  {
   "cell_type": "markdown",
   "id": "0e32739a",
   "metadata": {},
   "source": [
    "## Lists in Python\n",
    "\n",
    "A list is a collection of items that are ordered and changeable. Lists are defined by enclosing items in square brackets `[]` and separating them with commas."
   ]
  },
  {
   "cell_type": "code",
   "execution_count": null,
   "id": "7fbc7754",
   "metadata": {},
   "outputs": [],
   "source": [
    "# Example of creating a list\n",
    "fruits = [\"apple\", \"banana\", \"cherry\"]"
   ]
  },
  {
   "cell_type": "code",
   "execution_count": null,
   "id": "ab69c674",
   "metadata": {},
   "outputs": [],
   "source": [
    "# Accessing items in a list\n",
    "print(fruits[1]) "
   ]
  },
  {
   "cell_type": "code",
   "execution_count": null,
   "id": "7a2c385c",
   "metadata": {},
   "outputs": [],
   "source": [
    "# Modifying items in a list\n",
    "fruits[0] = \"orange\"\n",
    "print(fruits) "
   ]
  },
  {
   "cell_type": "markdown",
   "id": "00d63651",
   "metadata": {},
   "source": [
    "## Tuples in Python\n",
    "\n",
    "A tuple is a collection of items that are ordered and unchangeable. Tuples are defined by enclosing items in parentheses `()` and separating them with commas."
   ]
  },
  {
   "cell_type": "code",
   "execution_count": null,
   "id": "48bc21f8",
   "metadata": {},
   "outputs": [],
   "source": [
    "# Example of creating a tuple\n",
    "colors = (\"red\", \"green\", \"blue\")\n",
    "\n",
    "# Accessing items in a tuple\n",
    "print(colors[0])  "
   ]
  },
  {
   "cell_type": "code",
   "execution_count": null,
   "id": "f6017746",
   "metadata": {},
   "outputs": [],
   "source": [
    "# Example of creating a tuple\n",
    "colors = (\"red\", \"green\", \"blue\")"
   ]
  },
  {
   "cell_type": "code",
   "execution_count": null,
   "id": "5b945fd8",
   "metadata": {},
   "outputs": [],
   "source": [
    "# Accessing items in a tuple\n",
    "print(colors[0]) "
   ]
  },
  {
   "cell_type": "markdown",
   "id": "3bd08171",
   "metadata": {},
   "source": [
    "## Dictionaries in Python\n",
    "\n",
    "A dictionary is a collection of key-value pairs that are unordered and changeable. Dictionaries are defined by enclosing key-value pairs in curly braces `{}`."
   ]
  },
  {
   "cell_type": "code",
   "execution_count": null,
   "id": "3cf5a0d3",
   "metadata": {},
   "outputs": [],
   "source": [
    "# Example of creating a dictionary\n",
    "person = {\n",
    "    \"name\": \"Alice\",\n",
    "    \"age\": 30,\n",
    "    \"city\": \"Wonderland\"\n",
    "}"
   ]
  },
  {
   "cell_type": "code",
   "execution_count": null,
   "id": "4aba069a",
   "metadata": {},
   "outputs": [],
   "source": [
    "# Accessing values in a dictionary using keys\n",
    "print(person[\"name\"])  # Output: Alice"
   ]
  },
  {
   "cell_type": "code",
   "execution_count": null,
   "id": "d086fe3d",
   "metadata": {},
   "outputs": [],
   "source": [
    "# Modifying values in a dictionary\n",
    "person[\"age\"] = 25\n",
    "print(person)  "
   ]
  }
 ],
 "metadata": {
  "kernelspec": {
   "display_name": "Python 3 (ipykernel)",
   "language": "python",
   "name": "python3"
  },
  "language_info": {
   "codemirror_mode": {
    "name": "ipython",
    "version": 3
   },
   "file_extension": ".py",
   "mimetype": "text/x-python",
   "name": "python",
   "nbconvert_exporter": "python",
   "pygments_lexer": "ipython3",
   "version": "3.10.9"
  }
 },
 "nbformat": 4,
 "nbformat_minor": 5
}
