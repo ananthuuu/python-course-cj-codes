{
 "cells": [
  {
   "cell_type": "markdown",
   "id": "970f3c75",
   "metadata": {},
   "source": [
    "# Python Operators\n",
    "\n",
    "In this notebook, we will learn about the different types of operators in Python. Operators are special symbols in Python that carry out arithmetic or logical computation. The value that the operator operates on is called the operand."
   ]
  },
  {
   "cell_type": "markdown",
   "id": "b765401d",
   "metadata": {},
   "source": [
    "## Arithmetic Operators\n",
    "\n",
    "Arithmetic operators are used to perform mathematical operations like addition, subtraction, multiplication, etc.\n",
    "\n",
    "| Operator | Name           | Description                                            |\n",
    "|----------|----------------|--------------------------------------------------------|\n",
    "| +        | Addition       | Adds values on either side of the operator.            |\n",
    "| -        | Subtraction    | Subtracts right hand operand from left hand operand.   |\n",
    "| *        | Multiplication | Multiplies values on either side of the operator.      |\n",
    "| /        | Division       | Divides left hand operand by right hand operand.       |\n",
    "| %        | Modulus        | Divides left hand operand by right hand operand and returns remainder. |\n",
    "| **       | Exponent       | Performs exponential (power) calculation on operators. |\n",
    "| //       | Floor Division | The division of operands where the result is the quotient in which the digits after the decimal point are removed. |\n"
   ]
  },
  {
   "cell_type": "code",
   "execution_count": 1,
   "id": "510962a6",
   "metadata": {},
   "outputs": [
    {
     "name": "stdout",
     "output_type": "stream",
     "text": [
      "8\n",
      "2\n",
      "15\n",
      "1.6666666666666667\n"
     ]
    }
   ],
   "source": [
    "# Examples of Arithmetic Operators\n",
    "\n",
    "# Addition\n",
    "a = 5\n",
    "b = 3\n",
    "print(a + b) # 8\n",
    "\n",
    "# Subtraction\n",
    "print(a - b) # 2\n",
    "\n",
    "# Multiplication\n",
    "print(a * b) # 15\n",
    "\n",
    "# Division\n",
    "print(a / b) # 1.6666666666666667\n"
   ]
  },
  {
   "cell_type": "markdown",
   "id": "2c9541d6",
   "metadata": {},
   "source": [
    "## Relational Operators\n",
    "\n",
    "Relational operators are used to compare values. They return a boolean value `True` or `False` depending on whether the condition is met.\n",
    "\n",
    "| Operator | Name                  | Description                                            |\n",
    "|----------|-----------------------|--------------------------------------------------------|\n",
    "| ==       | Equal to              | If the values of two operands are equal, then the condition becomes true. |\n",
    "| !=       | Not equal to          | If values of two operands are not equal, then condition becomes true. |\n",
    "| >        | Greater than          | If the value of left operand is greater than the value of right operand, then condition becomes true. |\n",
    "| <        | Less than             | If the value of left operand is less than the value of right operand, then condition becomes true. |\n",
    "| >=       | Greater than or equal to | If the value of left operand is greater than or equal to the value of right operand, then condition becomes true. |\n",
    "| <=       | Less than or equal to | If the value of left operand is less than or equal to the value of right operand, then condition becomes true. |\n"
   ]
  },
  {
   "cell_type": "code",
   "execution_count": null,
   "id": "a842b33f",
   "metadata": {},
   "outputs": [],
   "source": [
    "# Examples of Relational Operators\n",
    "\n",
    "x = 10\n",
    "y = 5\n",
    "\n",
    "# Equal to\n",
    "print(x == y)  # False\n",
    "\n",
    "# Not equal to\n",
    "print(x != y)  # True\n",
    "\n",
    "# Greater than\n",
    "print(x > y)   # True\n",
    "\n",
    "# Less than\n",
    "print(x < y)   # False\n",
    "\n",
    "# Greater than or equal to\n",
    "print(x >= y)  # True\n",
    "\n",
    "# Less than or equal to\n",
    "print(x <= y)  # False\n"
   ]
  }
 ],
 "metadata": {
  "kernelspec": {
   "display_name": "Python 3 (ipykernel)",
   "language": "python",
   "name": "python3"
  },
  "language_info": {
   "codemirror_mode": {
    "name": "ipython",
    "version": 3
   },
   "file_extension": ".py",
   "mimetype": "text/x-python",
   "name": "python",
   "nbconvert_exporter": "python",
   "pygments_lexer": "ipython3",
   "version": "3.10.9"
  }
 },
 "nbformat": 4,
 "nbformat_minor": 5
}
