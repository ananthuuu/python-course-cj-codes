{
 "cells": [
  {
   "cell_type": "markdown",
   "id": "f5bd6cc0",
   "metadata": {},
   "source": [
    "# Loops and Iteration in Python\n",
    "\n",
    "In this notebook, we will explore loops and iteration in Python, which allow us to execute a block of code repeatedly."
   ]
  },
  {
   "cell_type": "markdown",
   "id": "9bc3c1e7",
   "metadata": {},
   "source": [
    "## `for` Loop\n",
    "\n",
    "A `for` loop is used to iterate over a sequence (like a list, tuple, or string) or other iterable objects. It executes a block of code for each item in the sequence."
   ]
  },
  {
   "cell_type": "code",
   "execution_count": null,
   "id": "f0312b90",
   "metadata": {},
   "outputs": [],
   "source": [
    "# Example of a for loop\n",
    "\n",
    "#Assign a list Fruits with some fruits names\n",
    "fruits = [\"apple\", \"banana\", \"cherry\"]"
   ]
  },
  {
   "cell_type": "code",
   "execution_count": null,
   "id": "548d2512",
   "metadata": {},
   "outputs": [],
   "source": [
    "#looping though fruits list\n",
    "for fruit in fruits:\n",
    "    # each element of list fruits is being assigned to variable fruit and is being printed here\n",
    "    print(fruit)"
   ]
  },
  {
   "cell_type": "markdown",
   "id": "744d4591",
   "metadata": {},
   "source": [
    "## `while` Loop\n",
    "\n",
    "A `while` loop is used to repeatedly execute a block of code as long as a certain condition is `True`."
   ]
  },
  {
   "cell_type": "code",
   "execution_count": null,
   "id": "d9f60260",
   "metadata": {},
   "outputs": [],
   "source": [
    "# Example of a while loop\n",
    "count = 0\n",
    "while count < 5:\n",
    "    print(f\"Count: {count}\")\n",
    "    count += 1"
   ]
  },
  {
   "cell_type": "markdown",
   "id": "99451b34",
   "metadata": {},
   "source": [
    "## Iterating through Range\n",
    "\n",
    "The `range()` function generates a sequence of numbers that can be used to iterate through a loop."
   ]
  },
  {
   "cell_type": "code",
   "execution_count": null,
   "id": "846d7b0e",
   "metadata": {},
   "outputs": [],
   "source": [
    "# Example of iterating through range\n",
    "for i in range(5):\n",
    "    print(i)"
   ]
  }
 ],
 "metadata": {
  "kernelspec": {
   "display_name": "Python 3 (ipykernel)",
   "language": "python",
   "name": "python3"
  },
  "language_info": {
   "codemirror_mode": {
    "name": "ipython",
    "version": 3
   },
   "file_extension": ".py",
   "mimetype": "text/x-python",
   "name": "python",
   "nbconvert_exporter": "python",
   "pygments_lexer": "ipython3",
   "version": "3.10.9"
  }
 },
 "nbformat": 4,
 "nbformat_minor": 5
}
